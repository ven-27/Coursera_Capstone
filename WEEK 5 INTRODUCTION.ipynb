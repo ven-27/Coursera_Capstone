{
 "cells": [
  {
   "cell_type": "markdown",
   "metadata": {},
   "source": [
    "# Segmenting and Clustering of Neighbourhoods\n"
   ]
  },
  {
   "cell_type": "markdown",
   "metadata": {},
   "source": [
    "# WEEK 4 PROJECT introduction"
   ]
  },
  {
   "cell_type": "markdown",
   "metadata": {},
   "source": [
    "                Fredericton is the capital city of Canadian Province of New Brunswik."
   ]
  },
  {
   "cell_type": "markdown",
   "metadata": {},
   "source": [
    "               The city is situated in the west-central portion of the province along the Saint John River, which flows west to east as it bisects the city. The river is the dominant natural feature of the area               "
   ]
  },
  {
   "cell_type": "markdown",
   "metadata": {},
   "source": [
    "              The city offers a wide spectrum of venues and is a governement, university and cultural hub."
   ]
  },
  {
   "cell_type": "markdown",
   "metadata": {},
   "source": [
    "              We use the open data about the city for entreprenuerial uses and will help the citizens of the city to get the most out of the extisting resources."
   ]
  },
  {
   "cell_type": "markdown",
   "metadata": {},
   "source": [
    "              Target Audience: Policy makers, City planners and Developers and the government workers\n",
    "              QUESTIONS:\n",
    "              1) Is the population in an area and the crime level in an area have a corelation or not ?\n",
    "         2) What type of locations (coffe shops, police stations ) are present in all the different locations of the city?\n",
    "              3) Neighbourhood with what location have the highet crime level ?"
   ]
  },
  {
   "cell_type": "code",
   "execution_count": null,
   "metadata": {},
   "outputs": [],
   "source": []
  }
 ],
 "metadata": {
  "kernelspec": {
   "display_name": "Python 3",
   "language": "python",
   "name": "python3"
  },
  "language_info": {
   "codemirror_mode": {
    "name": "ipython",
    "version": 3
   },
   "file_extension": ".py",
   "mimetype": "text/x-python",
   "name": "python",
   "nbconvert_exporter": "python",
   "pygments_lexer": "ipython3",
   "version": "3.7.3"
  }
 },
 "nbformat": 4,
 "nbformat_minor": 2
}
