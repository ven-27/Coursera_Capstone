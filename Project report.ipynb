{
 "cells": [
  {
   "cell_type": "markdown",
   "metadata": {},
   "source": [
    "# SEGMENTING AND CLUSTERING NEIGHBOURHOODS"
   ]
  },
  {
   "cell_type": "markdown",
   "metadata": {},
   "source": [
    "                                               WEEK 5 PROJECT REPORT "
   ]
  },
  {
   "cell_type": "markdown",
   "metadata": {},
   "source": [
    "                                                    INTRODUCTION"
   ]
  },
  {
   "cell_type": "markdown",
   "metadata": {},
   "source": [
    "           Fredericton is the capital city of Canadian Province of New Brunswik.\n",
    "      The city is situated in the west-central portion of the province along the Saint John River, which flows west to east as it bisects the city. The river is the dominant natural feature of the area               \n",
    "          The city offers a wide spectrum of venues and is a governement, university and cultural hub.\n",
    "         We use the open data about the city for entreprenuerial uses and will help the citizens of the city to get the most out of the extisting resources.\n",
    "          Target Audience: Policy makers, City planners and Developers and the government workers\n",
    "          QUESTIONS:\n",
    "          1) Is the population in an area and the crime level in an area have a corelation or not ?\n",
    "     2) What type of locations (coffe shops, police stations ) are present in all the different locations of the city?\n",
    "          3) Neighbourhood with what location have the highet crime level ?"
   ]
  },
  {
   "cell_type": "markdown",
   "metadata": {},
   "source": [
    "                                                       DATA"
   ]
  },
  {
   "cell_type": "markdown",
   "metadata": {},
   "source": [
    "         Foursquare Developers Access to use the data needed data: https://foursquare.com/\n",
    "         Fredericton Census Tract Demographics: http://data-fredericton.opendata.arcgis.com/datasets/census-tract-demographics--donn%C3%A9es-d%C3%A9mographiques-du-secteur-de-recensement\n",
    "         Fredericton Neighbourhoods: http://data-fredericton.opendata.arcgis.com/datasets/neighbourhoods--quartiers\n",
    "         Open Data Site: http://data-fredericton.opendata.arcgis.com/\n",
    "         Using the data from these websites we will try to discuss and find the answers for the questions listed in the introduction section. Different data from different sources are used for different works. For eg: We can group the crimes commited in a area using a neighbourhood data. We can use clusters to find the locations which are poresent in all the areas of interest. "
   ]
  },
  {
   "cell_type": "markdown",
   "metadata": {},
   "source": [
    "                                                     METHADOLOGY"
   ]
  },
  {
   "cell_type": "markdown",
   "metadata": {},
   "source": [
    "                          1) Loading of all the libraries required for the project\n",
    "                          2) Downloading all the required datasets from the different mentioned websites.\n",
    "                     3) Loading all the datsets into the jupyter notebook to explore them and make the required conclusions.\n",
    "                          4) Examing the crime rate in each frequency.\n",
    "                          5) Examingthe type of crimes in each neighbourhood.\n",
    "                          6) STudy of the crime rate and the crime type frequency based on neighbourhood.\n",
    "                          7) Understanding the corelation between crime rate and the population at the particular area"
   ]
  },
  {
   "cell_type": "markdown",
   "metadata": {},
   "source": [
    "                                                      RESULTS"
   ]
  },
  {
   "cell_type": "markdown",
   "metadata": {},
   "source": [
    "                          1) Theft from motor vehicles is most prevalent in the same area as the most frequent crimes\n",
    "                          2) This area is mostly residential and most do not have garages.\n",
    "                      3) From the ecamined plots we found out that the most common crime is other theft less than 5k dollars followed by motor vechicle theft less than 5k dollars.\n",
    "                4) We can also see that the average crime rate is around 7 in the neighbourhoods by the plotted graphs.\n",
    "                          5) As we have examined we can also see that there is confirmed corelation between the population in an given area and the crime rate in that area. So our hypothesis comes out to be false.\n",
    "                          6) The most common venues in the highest crime neighbourhood are coffee shops followed by Pubs and Bars.\n",
    "                          7) We were able to determine the top 10 most common venues by location of interest.\n",
    "                          8) Statisically, we determined there are no coffee shops within the Knowledge Park clusters.\n",
    "                          \n",
    "These are the conclusions and results that we are able to make using the data."
   ]
  },
  {
   "cell_type": "markdown",
   "metadata": {},
   "source": [
    "                                      DISCUSSIONS AND RECOMENDATIONS"
   ]
  },
  {
   "cell_type": "markdown",
   "metadata": {},
   "source": [
    "              We are not able to find answers for most of the hypothesis that came to our mind using the existing data. We need more data for creating a more general overview of that area or make any conclusions about that area.\n",
    "              There is value to the city to explore the detailed crime data using data science to predict frequency, location, timing and conditions to best allocated resources for the benefit of its citizens and it's police force. However, human behaviour is complex requiring thick profile data by individual and the conditions surrounding the event(s). To be sufficient for reliable future prediction it would need to demonstrate validity, currency, reliability and sufficiency.\n",
    "              Theft from motor vehicles is most prevalent in the same area as the most frequent crimes. It is interesting to note this area is mostly residential and most do not have garages. It would be interesting to further examine if surveillance is a deterant for motor vehicle crimes in the downtown core compared to low surveillance in the Platt neighbourhood."
   ]
  },
  {
   "cell_type": "markdown",
   "metadata": {},
   "source": [
    "                                              CONCLUSIONS"
   ]
  },
  {
   "cell_type": "markdown",
   "metadata": {},
   "source": [
    "                Using a combination of datasets from the City of Fredericton Open Data project and Foursquare venue data we were able to analyse, discover and describe neighbhourhoods, crime, population density and statistically describe quantitatively venues by locations of interest.\n",
    "\n",
    "                While overall, the City of Fredericton Open Data is interesting, it misses the details required for true valued quantitiatve analysis and predictive analytics which would be most valued by investors and developers to make appropriate investments and to minimize risk."
   ]
  },
  {
   "cell_type": "code",
   "execution_count": null,
   "metadata": {},
   "outputs": [],
   "source": []
  },
  {
   "cell_type": "code",
   "execution_count": null,
   "metadata": {},
   "outputs": [],
   "source": []
  }
 ],
 "metadata": {
  "kernelspec": {
   "display_name": "Python 3",
   "language": "python",
   "name": "python3"
  },
  "language_info": {
   "codemirror_mode": {
    "name": "ipython",
    "version": 3
   },
   "file_extension": ".py",
   "mimetype": "text/x-python",
   "name": "python",
   "nbconvert_exporter": "python",
   "pygments_lexer": "ipython3",
   "version": "3.7.3"
  }
 },
 "nbformat": 4,
 "nbformat_minor": 2
}
